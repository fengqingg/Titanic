{
 "cells": [
  {
   "cell_type": "markdown",
   "metadata": {},
   "source": [
    "# Titanic \n",
    "Hello and welcome to my code for the Titanic dataset from Kaggle! This code is aimed at exploring the dataset and making predictions about the survival of the passengers using machine learning techniques.\n",
    "\n",
    "In this code, I have used Python and popular libraries such as Pandas, NumPy, and Scikit-Learn to preprocess the data, perform feature engineering, and build a predictive model. The dataset contains information about the passengers aboard the Titanic, including their age, gender, ticket class, fare, and survival status.\n",
    "\n",
    "After cleaning and exploring the data, I have used various machine learning algorithms, such as Logistic Regression, Decision Trees, and Random Forests, to build and evaluate predictive models.\n",
    "\n",
    "\n",
    "## Table of Contents\n",
    "\n",
    "* [Introduction](#section-one)\n",
    "    - [Loading of dataset](#subsection-one)\n",
    "* [Exploratory Data Analysis](#section-two)\n",
    "    - [Exploration of data](#subsection-two)\n",
    "    - [Analysis of data](#subsection-three)\n",
    "    - [Transformation of data](#subsection-four)\n",
    "* [Modelling and predicting](#section-three)\n",
    "    - [Cross validation and Gridsearch](#subsection-five)\n",
    "* [Submission](#section-four)\n",
    "* [Conclusion](#section-five)"
   ]
  },
  {
   "cell_type": "markdown",
   "metadata": {},
   "source": [
    "<a id=\"section-one\"></a>\n",
    "# Introduction\n",
    "The Titanic dataset available on Kaggle is a classic binary classification problem. The aim is to predict whether a passenger aboard the Titanic survived or not based on various attributes such as their age, gender, ticket class, etc.\n",
    "\n",
    "The Titanic dataset contains information on 891 passengers out of the 2224 people on board the Titanic. Each passenger is described by the following features:\n",
    "\n",
    "**PassengerId**: A unique identifier for each passenger.\\\n",
    "**Survived**: A binary variable indicating whether the passenger survived or not (0 = No, 1 = Yes).\\\n",
    "**Pclass**: The ticket class of the passenger (1 = 1st class, 2 = 2nd class, 3 = 3rd class).\\\n",
    "**Name**: The name of the passenger.\\\n",
    "**Sex**: The gender of the passenger.\\\n",
    "**Age**: The age of the passenger in years.\\\n",
    "**SibSp**: The number of siblings/spouses aboard the Titanic.\\\n",
    "**Parch**: The number of parents/children aboard the Titanic.\\\n",
    "**Ticket**: The ticket number of the passenger.\\\n",
    "**Fare**: The fare paid by the passenger.\\\n",
    "**Cabin**: The cabin number of the passenger.\\\n",
    "**Embarked**: The port of embarkation (C = Cherbourg, Q =\n",
    "Queenstown, S = Southampton).\n"
   ]
  },
  {
   "cell_type": "markdown",
   "metadata": {
    "execution": {
     "iopub.execute_input": "2023-03-27T06:52:40.027122Z",
     "iopub.status.busy": "2023-03-27T06:52:40.026658Z",
     "iopub.status.idle": "2023-03-27T06:52:40.035010Z",
     "shell.execute_reply": "2023-03-27T06:52:40.033241Z",
     "shell.execute_reply.started": "2023-03-27T06:52:40.027085Z"
    }
   },
   "source": [
    "<a id=\"subsection-one\"></a>\n",
    "### Load data and importing libraries"
   ]
  },
  {
   "cell_type": "code",
   "execution_count": 45,
   "metadata": {
    "_cell_guid": "b1076dfc-b9ad-4769-8c92-a6c4dae69d19",
    "_uuid": "8f2839f25d086af736a60e9eeb907d3b93b6e0e5",
    "execution": {
     "iopub.execute_input": "2023-04-04T06:40:47.297519Z",
     "iopub.status.busy": "2023-04-04T06:40:47.297084Z",
     "iopub.status.idle": "2023-04-04T06:40:47.313668Z",
     "shell.execute_reply": "2023-04-04T06:40:47.311127Z",
     "shell.execute_reply.started": "2023-04-04T06:40:47.297481Z"
    }
   },
   "outputs": [],
   "source": [
    "# Data analysis \n",
    "import pandas as pd\n",
    "import numpy as np\n",
    "import random as rnd\n",
    "\n",
    "# Visualization of data\n",
    "import seaborn as sns\n",
    "import matplotlib.pyplot as plt\n",
    "%matplotlib inline\n",
    "\n",
    "# Machine learning\n",
    "from sklearn.compose import ColumnTransformer\n",
    "from sklearn.preprocessing import OneHotEncoder\n",
    "from sklearn.model_selection import train_test_split\n",
    "from sklearn.preprocessing import StandardScaler\n",
    "from sklearn.metrics import accuracy_score\n",
    "from sklearn.linear_model import LogisticRegression\n",
    "from sklearn.svm import SVC, LinearSVC\n",
    "from sklearn.ensemble import RandomForestClassifier\n",
    "from sklearn.neighbors import KNeighborsClassifier\n",
    "from sklearn.tree import DecisionTreeClassifier\n",
    "from xgboost import XGBClassifier\n",
    "from sklearn.model_selection import GridSearchCV\n",
    "from sklearn.model_selection import KFold"
   ]
  },
  {
   "cell_type": "code",
   "execution_count": 46,
   "metadata": {
    "execution": {
     "iopub.execute_input": "2023-04-04T06:40:47.317063Z",
     "iopub.status.busy": "2023-04-04T06:40:47.316025Z",
     "iopub.status.idle": "2023-04-04T06:40:47.349882Z",
     "shell.execute_reply": "2023-04-04T06:40:47.348845Z",
     "shell.execute_reply.started": "2023-04-04T06:40:47.317011Z"
    }
   },
   "outputs": [],
   "source": [
    "# Loading train data and test data\n",
    "train_df = pd.read_csv('train.csv')\n",
    "test_df = pd.read_csv('test.csv')"
   ]
  },
  {
   "cell_type": "markdown",
   "metadata": {},
   "source": [
    "<a id=\"section-two\"></a>\n",
    "## Exploratory Data Analysis (EDA)"
   ]
  },
  {
   "cell_type": "markdown",
   "metadata": {},
   "source": [
    "<a id=\"subsection-two\"></a>\n",
    "\n",
    "### Exploration of data\n",
    "Let's take a look at the train_data to understand more about it."
   ]
  },
  {
   "cell_type": "code",
   "execution_count": 47,
   "metadata": {
    "execution": {
     "iopub.execute_input": "2023-04-04T06:40:47.352297Z",
     "iopub.status.busy": "2023-04-04T06:40:47.351183Z",
     "iopub.status.idle": "2023-04-04T06:40:47.379193Z",
     "shell.execute_reply": "2023-04-04T06:40:47.377146Z",
     "shell.execute_reply.started": "2023-04-04T06:40:47.352252Z"
    }
   },
   "outputs": [
    {
     "data": {
      "text/html": [
       "<div>\n",
       "<style scoped>\n",
       "    .dataframe tbody tr th:only-of-type {\n",
       "        vertical-align: middle;\n",
       "    }\n",
       "\n",
       "    .dataframe tbody tr th {\n",
       "        vertical-align: top;\n",
       "    }\n",
       "\n",
       "    .dataframe thead th {\n",
       "        text-align: right;\n",
       "    }\n",
       "</style>\n",
       "<table border=\"1\" class=\"dataframe\">\n",
       "  <thead>\n",
       "    <tr style=\"text-align: right;\">\n",
       "      <th></th>\n",
       "      <th>PassengerId</th>\n",
       "      <th>Survived</th>\n",
       "      <th>Pclass</th>\n",
       "      <th>Name</th>\n",
       "      <th>Sex</th>\n",
       "      <th>Age</th>\n",
       "      <th>SibSp</th>\n",
       "      <th>Parch</th>\n",
       "      <th>Ticket</th>\n",
       "      <th>Fare</th>\n",
       "      <th>Cabin</th>\n",
       "      <th>Embarked</th>\n",
       "    </tr>\n",
       "  </thead>\n",
       "  <tbody>\n",
       "    <tr>\n",
       "      <th>0</th>\n",
       "      <td>1</td>\n",
       "      <td>0</td>\n",
       "      <td>3</td>\n",
       "      <td>Braund, Mr. Owen Harris</td>\n",
       "      <td>male</td>\n",
       "      <td>22.0</td>\n",
       "      <td>1</td>\n",
       "      <td>0</td>\n",
       "      <td>A/5 21171</td>\n",
       "      <td>7.2500</td>\n",
       "      <td>NaN</td>\n",
       "      <td>S</td>\n",
       "    </tr>\n",
       "    <tr>\n",
       "      <th>1</th>\n",
       "      <td>2</td>\n",
       "      <td>1</td>\n",
       "      <td>1</td>\n",
       "      <td>Cumings, Mrs. John Bradley (Florence Briggs Th...</td>\n",
       "      <td>female</td>\n",
       "      <td>38.0</td>\n",
       "      <td>1</td>\n",
       "      <td>0</td>\n",
       "      <td>PC 17599</td>\n",
       "      <td>71.2833</td>\n",
       "      <td>C85</td>\n",
       "      <td>C</td>\n",
       "    </tr>\n",
       "    <tr>\n",
       "      <th>2</th>\n",
       "      <td>3</td>\n",
       "      <td>1</td>\n",
       "      <td>3</td>\n",
       "      <td>Heikkinen, Miss. Laina</td>\n",
       "      <td>female</td>\n",
       "      <td>26.0</td>\n",
       "      <td>0</td>\n",
       "      <td>0</td>\n",
       "      <td>STON/O2. 3101282</td>\n",
       "      <td>7.9250</td>\n",
       "      <td>NaN</td>\n",
       "      <td>S</td>\n",
       "    </tr>\n",
       "    <tr>\n",
       "      <th>3</th>\n",
       "      <td>4</td>\n",
       "      <td>1</td>\n",
       "      <td>1</td>\n",
       "      <td>Futrelle, Mrs. Jacques Heath (Lily May Peel)</td>\n",
       "      <td>female</td>\n",
       "      <td>35.0</td>\n",
       "      <td>1</td>\n",
       "      <td>0</td>\n",
       "      <td>113803</td>\n",
       "      <td>53.1000</td>\n",
       "      <td>C123</td>\n",
       "      <td>S</td>\n",
       "    </tr>\n",
       "    <tr>\n",
       "      <th>4</th>\n",
       "      <td>5</td>\n",
       "      <td>0</td>\n",
       "      <td>3</td>\n",
       "      <td>Allen, Mr. William Henry</td>\n",
       "      <td>male</td>\n",
       "      <td>35.0</td>\n",
       "      <td>0</td>\n",
       "      <td>0</td>\n",
       "      <td>373450</td>\n",
       "      <td>8.0500</td>\n",
       "      <td>NaN</td>\n",
       "      <td>S</td>\n",
       "    </tr>\n",
       "  </tbody>\n",
       "</table>\n",
       "</div>"
      ],
      "text/plain": [
       "   PassengerId  Survived  Pclass  \\\n",
       "0            1         0       3   \n",
       "1            2         1       1   \n",
       "2            3         1       3   \n",
       "3            4         1       1   \n",
       "4            5         0       3   \n",
       "\n",
       "                                                Name     Sex   Age  SibSp  \\\n",
       "0                            Braund, Mr. Owen Harris    male  22.0      1   \n",
       "1  Cumings, Mrs. John Bradley (Florence Briggs Th...  female  38.0      1   \n",
       "2                             Heikkinen, Miss. Laina  female  26.0      0   \n",
       "3       Futrelle, Mrs. Jacques Heath (Lily May Peel)  female  35.0      1   \n",
       "4                           Allen, Mr. William Henry    male  35.0      0   \n",
       "\n",
       "   Parch            Ticket     Fare Cabin Embarked  \n",
       "0      0         A/5 21171   7.2500   NaN        S  \n",
       "1      0          PC 17599  71.2833   C85        C  \n",
       "2      0  STON/O2. 3101282   7.9250   NaN        S  \n",
       "3      0            113803  53.1000  C123        S  \n",
       "4      0            373450   8.0500   NaN        S  "
      ]
     },
     "execution_count": 47,
     "metadata": {},
     "output_type": "execute_result"
    }
   ],
   "source": [
    "train_df.head()"
   ]
  },
  {
   "cell_type": "code",
   "execution_count": 48,
   "metadata": {
    "execution": {
     "iopub.execute_input": "2023-04-04T06:40:47.383382Z",
     "iopub.status.busy": "2023-04-04T06:40:47.381953Z",
     "iopub.status.idle": "2023-04-04T06:40:47.401567Z",
     "shell.execute_reply": "2023-04-04T06:40:47.400017Z",
     "shell.execute_reply.started": "2023-04-04T06:40:47.383314Z"
    }
   },
   "outputs": [
    {
     "name": "stdout",
     "output_type": "stream",
     "text": [
      "<class 'pandas.core.frame.DataFrame'>\n",
      "RangeIndex: 891 entries, 0 to 890\n",
      "Data columns (total 12 columns):\n",
      " #   Column       Non-Null Count  Dtype  \n",
      "---  ------       --------------  -----  \n",
      " 0   PassengerId  891 non-null    int64  \n",
      " 1   Survived     891 non-null    int64  \n",
      " 2   Pclass       891 non-null    int64  \n",
      " 3   Name         891 non-null    object \n",
      " 4   Sex          891 non-null    object \n",
      " 5   Age          714 non-null    float64\n",
      " 6   SibSp        891 non-null    int64  \n",
      " 7   Parch        891 non-null    int64  \n",
      " 8   Ticket       891 non-null    object \n",
      " 9   Fare         891 non-null    float64\n",
      " 10  Cabin        204 non-null    object \n",
      " 11  Embarked     889 non-null    object \n",
      "dtypes: float64(2), int64(5), object(5)\n",
      "memory usage: 83.7+ KB\n"
     ]
    }
   ],
   "source": [
    "train_df.info()"
   ]
  },
  {
   "cell_type": "code",
   "execution_count": 49,
   "metadata": {
    "execution": {
     "iopub.execute_input": "2023-04-04T06:40:47.405229Z",
     "iopub.status.busy": "2023-04-04T06:40:47.404717Z",
     "iopub.status.idle": "2023-04-04T06:40:47.428099Z",
     "shell.execute_reply": "2023-04-04T06:40:47.425880Z",
     "shell.execute_reply.started": "2023-04-04T06:40:47.405182Z"
    }
   },
   "outputs": [
    {
     "name": "stdout",
     "output_type": "stream",
     "text": [
      "<class 'pandas.core.frame.DataFrame'>\n",
      "RangeIndex: 418 entries, 0 to 417\n",
      "Data columns (total 11 columns):\n",
      " #   Column       Non-Null Count  Dtype  \n",
      "---  ------       --------------  -----  \n",
      " 0   PassengerId  418 non-null    int64  \n",
      " 1   Pclass       418 non-null    int64  \n",
      " 2   Name         418 non-null    object \n",
      " 3   Sex          418 non-null    object \n",
      " 4   Age          332 non-null    float64\n",
      " 5   SibSp        418 non-null    int64  \n",
      " 6   Parch        418 non-null    int64  \n",
      " 7   Ticket       418 non-null    object \n",
      " 8   Fare         417 non-null    float64\n",
      " 9   Cabin        91 non-null     object \n",
      " 10  Embarked     418 non-null    object \n",
      "dtypes: float64(2), int64(4), object(5)\n",
      "memory usage: 36.0+ KB\n"
     ]
    }
   ],
   "source": [
    "test_df.info()"
   ]
  },
  {
   "cell_type": "code",
   "execution_count": 50,
   "metadata": {
    "execution": {
     "iopub.execute_input": "2023-04-04T06:40:47.430344Z",
     "iopub.status.busy": "2023-04-04T06:40:47.429874Z",
     "iopub.status.idle": "2023-04-04T06:40:47.441513Z",
     "shell.execute_reply": "2023-04-04T06:40:47.439955Z",
     "shell.execute_reply.started": "2023-04-04T06:40:47.430297Z"
    }
   },
   "outputs": [
    {
     "data": {
      "text/plain": [
       "PassengerId      0\n",
       "Survived         0\n",
       "Pclass           0\n",
       "Name             0\n",
       "Sex              0\n",
       "Age            177\n",
       "SibSp            0\n",
       "Parch            0\n",
       "Ticket           0\n",
       "Fare             0\n",
       "Cabin          687\n",
       "Embarked         2\n",
       "dtype: int64"
      ]
     },
     "execution_count": 50,
     "metadata": {},
     "output_type": "execute_result"
    }
   ],
   "source": [
    "# Look for missing data\n",
    "train_df.isnull().sum() #checking for total null values"
   ]
  },
  {
   "cell_type": "code",
   "execution_count": 51,
   "metadata": {
    "execution": {
     "iopub.execute_input": "2023-04-04T06:40:47.443859Z",
     "iopub.status.busy": "2023-04-04T06:40:47.442925Z",
     "iopub.status.idle": "2023-04-04T06:40:47.455183Z",
     "shell.execute_reply": "2023-04-04T06:40:47.453890Z",
     "shell.execute_reply.started": "2023-04-04T06:40:47.443812Z"
    }
   },
   "outputs": [
    {
     "data": {
      "text/plain": [
       "PassengerId      0\n",
       "Pclass           0\n",
       "Name             0\n",
       "Sex              0\n",
       "Age             86\n",
       "SibSp            0\n",
       "Parch            0\n",
       "Ticket           0\n",
       "Fare             1\n",
       "Cabin          327\n",
       "Embarked         0\n",
       "dtype: int64"
      ]
     },
     "execution_count": 51,
     "metadata": {},
     "output_type": "execute_result"
    }
   ],
   "source": [
    "test_df.isnull().sum()"
   ]
  },
  {
   "cell_type": "markdown",
   "metadata": {},
   "source": [
    "In the train data, 'Age', 'Cabin', 'Embarked' contains null values and it is important to deal with it before selecting features. \n",
    "\n",
    "It is also noted that the test data might contain null values and have to handle it before predicting."
   ]
  },
  {
   "cell_type": "code",
   "execution_count": 52,
   "metadata": {
    "execution": {
     "iopub.execute_input": "2023-04-04T06:40:47.457479Z",
     "iopub.status.busy": "2023-04-04T06:40:47.456552Z",
     "iopub.status.idle": "2023-04-04T06:40:47.670675Z",
     "shell.execute_reply": "2023-04-04T06:40:47.668588Z",
     "shell.execute_reply.started": "2023-04-04T06:40:47.457425Z"
    }
   },
   "outputs": [
    {
     "data": {
      "image/png": "[encoded data removed]",
      "text/plain": [
       "<Figure size 432x288 with 1 Axes>"
      ]
     },
     "metadata": {},
     "output_type": "display_data"
    }
   ],
   "source": [
    "# Get the count of passengers who survived \n",
    "survive = train_df.Survived.value_counts()\n",
    "\n",
    "# Create a pie chart with the survival counts \n",
    "plt.pie(survive, labels=survive.index, autopct='%1.1f%%')\n",
    "\n",
    "# Set the title of the chart\n",
    "plt.title(\"Survived\")\n",
    "\n",
    "# Add a legend to the chart\n",
    "plt.legend()\n",
    "\n",
    "# Show the chart\n",
    "plt.show()\n"
   ]
  },
  {
   "cell_type": "markdown",
   "metadata": {},
   "source": [
    "Only 38.4% of the passengers survived. To find out how the features are related to the survival of the passengers, we will start to do some analysis."
   ]
  },
  {
   "cell_type": "markdown",
   "metadata": {},
   "source": [
    "<a id=\"subsection-three\"></a>\n",
    "\n",
    "### Analysis of data\n",
    "\n",
    "After conducting our exploratory data analysis, we have identified several features that warrant further investigation. These features include Pclass, Sex, Age, SibSp, Parch, Ticket, Fare, Cabin, and Embarked."
   ]
  },
  {
   "cell_type": "markdown",
   "metadata": {},
   "source": [
    "#### PassengerId\n",
    "\n",
    "The PassengerId is the unique identifier for each passenger which has no relation to whether the passenger survives. Thus this column will dropped."
   ]
  },
  {
   "cell_type": "markdown",
   "metadata": {},
   "source": [
    "#### Pclass"
   ]
  },
  {
   "cell_type": "code",
   "execution_count": 53,
   "metadata": {
    "execution": {
     "iopub.execute_input": "2023-04-04T06:40:47.679032Z",
     "iopub.status.busy": "2023-04-04T06:40:47.677157Z",
     "iopub.status.idle": "2023-04-04T06:40:47.954699Z",
     "shell.execute_reply": "2023-04-04T06:40:47.953620Z",
     "shell.execute_reply.started": "2023-04-04T06:40:47.678908Z"
    }
   },
   "outputs": [
    {
     "data": {
      "image/png": "[encoded data removed]",
      "text/plain": [
       "<Figure size 432x288 with 1 Axes>"
      ]
     },
     "metadata": {
      "needs_background": "light"
     },
     "output_type": "display_data"
    },
    {
     "data": {
      "text/html": [
       "<div>\n",
       "<style scoped>\n",
       "    .dataframe tbody tr th:only-of-type {\n",
       "        vertical-align: middle;\n",
       "    }\n",
       "\n",
       "    .dataframe tbody tr th {\n",
       "        vertical-align: top;\n",
       "    }\n",
       "\n",
       "    .dataframe thead th {\n",
       "        text-align: right;\n",
       "    }\n",
       "</style>\n",
       "<table border=\"1\" class=\"dataframe\">\n",
       "  <thead>\n",
       "    <tr style=\"text-align: right;\">\n",
       "      <th></th>\n",
       "      <th>Pclass</th>\n",
       "      <th>Survived</th>\n",
       "    </tr>\n",
       "  </thead>\n",
       "  <tbody>\n",
       "    <tr>\n",
       "      <th>0</th>\n",
       "      <td>1</td>\n",
       "      <td>0.629630</td>\n",
       "    </tr>\n",
       "    <tr>\n",
       "      <th>1</th>\n",
       "      <td>2</td>\n",
       "      <td>0.472826</td>\n",
       "    </tr>\n",
       "    <tr>\n",
       "      <th>2</th>\n",
       "      <td>3</td>\n",
       "      <td>0.242363</td>\n",
       "    </tr>\n",
       "  </tbody>\n",
       "</table>\n",
       "</div>"
      ],
      "text/plain": [
       "   Pclass  Survived\n",
       "0       1  0.629630\n",
       "1       2  0.472826\n",
       "2       3  0.242363"
      ]
     },
     "execution_count": 53,
     "metadata": {},
     "output_type": "execute_result"
    }
   ],
   "source": [
    "# Group the data by sex and survival status\n",
    "counts = train_df.groupby(['Pclass', 'Survived']).size().unstack()\n",
    "\n",
    "# Create a stacked bar chart showing the counts of males and females by survival status\n",
    "ax = counts.plot(kind='bar', stacked=True)\n",
    "\n",
    "# Set the title and axis labels\n",
    "plt.title('Pclass by Survival Status')\n",
    "plt.xlabel('Pclass')\n",
    "plt.xticks(rotation=0)\n",
    "plt.ylabel('Count')\n",
    "\n",
    "# Add labels to the top of each bar showing the count\n",
    "for rect in ax.containers:\n",
    "    ax.bar_label(rect, labels=[f'{int(h)}' for h in rect.datavalues], label_type='edge')\n",
    "\n",
    "# Add a legend\n",
    "ax.legend(title='Survived', loc='upper left')\n",
    "plt.show()\n",
    "\n",
    "train_df[['Pclass', 'Survived']].groupby(['Pclass'], as_index=False).mean().sort_values(by='Survived', ascending=False)"
   ]
  },
  {
   "cell_type": "markdown",
   "metadata": {},
   "source": [
    "It is clear that the Pclass is an important feature to predict who survive as the survival rate of Pclass 3 is so much lower than the other classes. It can be due to the priority given to them or the location of their cabin."
   ]
  },
  {
   "cell_type": "markdown",
   "metadata": {},
   "source": [
    "#### Name\n",
    "\n",
    "Looking at the head of Name, it seems like this feature cannot be used as a feature to predict survivability of the passengers. This would be dropped when transforming the data."
   ]
  },
  {
   "cell_type": "markdown",
   "metadata": {},
   "source": [
    "#### Sex"
   ]
  },
  {
   "cell_type": "code",
   "execution_count": 54,
   "metadata": {
    "execution": {
     "iopub.execute_input": "2023-04-04T06:40:47.956739Z",
     "iopub.status.busy": "2023-04-04T06:40:47.955914Z",
     "iopub.status.idle": "2023-04-04T06:40:48.233478Z",
     "shell.execute_reply": "2023-04-04T06:40:48.232216Z",
     "shell.execute_reply.started": "2023-04-04T06:40:47.956701Z"
    }
   },
   "outputs": [
    {
     "data": {
      "image/png": "[encoded data removed]",
      "text/plain": [
       "<Figure size 432x288 with 1 Axes>"
      ]
     },
     "metadata": {
      "needs_background": "light"
     },
     "output_type": "display_data"
    },
    {
     "data": {
      "text/html": [
       "<div>\n",
       "<style scoped>\n",
       "    .dataframe tbody tr th:only-of-type {\n",
       "        vertical-align: middle;\n",
       "    }\n",
       "\n",
       "    .dataframe tbody tr th {\n",
       "        vertical-align: top;\n",
       "    }\n",
       "\n",
       "    .dataframe thead th {\n",
       "        text-align: right;\n",
       "    }\n",
       "</style>\n",
       "<table border=\"1\" class=\"dataframe\">\n",
       "  <thead>\n",
       "    <tr style=\"text-align: right;\">\n",
       "      <th></th>\n",
       "      <th>Sex</th>\n",
       "      <th>Survived</th>\n",
       "    </tr>\n",
       "  </thead>\n",
       "  <tbody>\n",
       "    <tr>\n",
       "      <th>0</th>\n",
       "      <td>female</td>\n",
       "      <td>0.742038</td>\n",
       "    </tr>\n",
       "    <tr>\n",
       "      <th>1</th>\n",
       "      <td>male</td>\n",
       "      <td>0.188908</td>\n",
       "    </tr>\n",
       "  </tbody>\n",
       "</table>\n",
       "</div>"
      ],
      "text/plain": [
       "      Sex  Survived\n",
       "0  female  0.742038\n",
       "1    male  0.188908"
      ]
     },
     "execution_count": 54,
     "metadata": {},
     "output_type": "execute_result"
    }
   ],
   "source": [
    "# Group the data by sex and survival status\n",
    "counts = train_df.groupby(['Sex', 'Survived']).size().unstack()\n",
    "\n",
    "# Create a stacked bar chart showing the counts of males and females by survival status\n",
    "ax = counts.plot(kind='bar', stacked=True)\n",
    "\n",
    "# Set the title and axis labels\n",
    "plt.title('Males and Females by Survival Status')\n",
    "plt.xlabel('Sex')\n",
    "plt.xticks(rotation=0)\n",
    "plt.ylabel('Count')\n",
    "\n",
    "# Add labels to the top of each bar showing the count\n",
    "for rect in ax.containers:\n",
    "    ax.bar_label(rect, labels=[f'{int(h)}' for h in rect.datavalues], label_type='edge')\n",
    "\n",
    "# Add a legend\n",
    "ax.legend(title='Survived', loc='upper left')\n",
    "plt.show()\n",
    "\n",
    "# Group by Sex to get the mean of survival rate\n",
    "train_df[[\"Sex\", \"Survived\"]].groupby(['Sex'], as_index=False).mean().sort_values(by='Survived', ascending=False)"
   ]
  },
  {
   "cell_type": "markdown",
   "metadata": {},
   "source": [
    "Base on the data, it can be established that the female rate of survival is a lot higher than male. Thus sex is also an important feature to select."
   ]
  },
  {
   "cell_type": "markdown",
   "metadata": {},
   "source": [
    "#### Age"
   ]
  },
  {
   "cell_type": "markdown",
   "metadata": {},
   "source": [
    "From the EDA, we saw that our train_df age has 177 missing data while test_df has 86 missing data. We can choose to ignore it or fill it in with a data, either imputing it with the median or the mean. However, as the passenger name salutation gives us a hint on what their age roughly should be, we can use it to have a better imputation. "
   ]
  },
  {
   "cell_type": "code",
   "execution_count": 55,
   "metadata": {
    "execution": {
     "iopub.execute_input": "2023-04-04T06:40:48.236133Z",
     "iopub.status.busy": "2023-04-04T06:40:48.235080Z",
     "iopub.status.idle": "2023-04-04T06:40:48.330530Z",
     "shell.execute_reply": "2023-04-04T06:40:48.329252Z",
     "shell.execute_reply.started": "2023-04-04T06:40:48.236091Z"
    }
   },
   "outputs": [
    {
     "data": {
      "text/html": [
       "<style type=\"text/css\">\n",
       "#T_4210c_row0_col0, #T_4210c_row0_col1, #T_4210c_row0_col3, #T_4210c_row0_col4, #T_4210c_row0_col5, #T_4210c_row0_col7, #T_4210c_row0_col8, #T_4210c_row0_col12, #T_4210c_row0_col15, #T_4210c_row0_col16, #T_4210c_row1_col2, #T_4210c_row1_col6, #T_4210c_row1_col9, #T_4210c_row1_col10, #T_4210c_row1_col11, #T_4210c_row1_col13, #T_4210c_row1_col14 {\n",
       "  background-color: #fff7fb;\n",
       "  color: #000000;\n",
       "}\n",
       "#T_4210c_row0_col2, #T_4210c_row0_col6, #T_4210c_row0_col9, #T_4210c_row0_col10, #T_4210c_row0_col11, #T_4210c_row0_col13, #T_4210c_row0_col14, #T_4210c_row1_col0, #T_4210c_row1_col1, #T_4210c_row1_col3, #T_4210c_row1_col4, #T_4210c_row1_col5, #T_4210c_row1_col7, #T_4210c_row1_col8, #T_4210c_row1_col12, #T_4210c_row1_col15, #T_4210c_row1_col16 {\n",
       "  background-color: #023858;\n",
       "  color: #f1f1f1;\n",
       "}\n",
       "</style>\n",
       "<table id=\"T_4210c\">\n",
       "  <thead>\n",
       "    <tr>\n",
       "      <th class=\"index_name level0\" >Initial</th>\n",
       "      <th id=\"T_4210c_level0_col0\" class=\"col_heading level0 col0\" >Capt</th>\n",
       "      <th id=\"T_4210c_level0_col1\" class=\"col_heading level0 col1\" >Col</th>\n",
       "      <th id=\"T_4210c_level0_col2\" class=\"col_heading level0 col2\" >Countess</th>\n",
       "      <th id=\"T_4210c_level0_col3\" class=\"col_heading level0 col3\" >Don</th>\n",
       "      <th id=\"T_4210c_level0_col4\" class=\"col_heading level0 col4\" >Dr</th>\n",
       "      <th id=\"T_4210c_level0_col5\" class=\"col_heading level0 col5\" >Jonkheer</th>\n",
       "      <th id=\"T_4210c_level0_col6\" class=\"col_heading level0 col6\" >Lady</th>\n",
       "      <th id=\"T_4210c_level0_col7\" class=\"col_heading level0 col7\" >Major</th>\n",
       "      <th id=\"T_4210c_level0_col8\" class=\"col_heading level0 col8\" >Master</th>\n",
       "      <th id=\"T_4210c_level0_col9\" class=\"col_heading level0 col9\" >Miss</th>\n",
       "      <th id=\"T_4210c_level0_col10\" class=\"col_heading level0 col10\" >Mlle</th>\n",
       "      <th id=\"T_4210c_level0_col11\" class=\"col_heading level0 col11\" >Mme</th>\n",
       "      <th id=\"T_4210c_level0_col12\" class=\"col_heading level0 col12\" >Mr</th>\n",
       "      <th id=\"T_4210c_level0_col13\" class=\"col_heading level0 col13\" >Mrs</th>\n",
       "      <th id=\"T_4210c_level0_col14\" class=\"col_heading level0 col14\" >Ms</th>\n",
       "      <th id=\"T_4210c_level0_col15\" class=\"col_heading level0 col15\" >Rev</th>\n",
       "      <th id=\"T_4210c_level0_col16\" class=\"col_heading level0 col16\" >Sir</th>\n",
       "    </tr>\n",
       "    <tr>\n",
       "      <th class=\"index_name level0\" >Sex</th>\n",
       "      <th class=\"blank col0\" >&nbsp;</th>\n",
       "      <th class=\"blank col1\" >&nbsp;</th>\n",
       "      <th class=\"blank col2\" >&nbsp;</th>\n",
       "      <th class=\"blank col3\" >&nbsp;</th>\n",
       "      <th class=\"blank col4\" >&nbsp;</th>\n",
       "      <th class=\"blank col5\" >&nbsp;</th>\n",
       "      <th class=\"blank col6\" >&nbsp;</th>\n",
       "      <th class=\"blank col7\" >&nbsp;</th>\n",
       "      <th class=\"blank col8\" >&nbsp;</th>\n",
       "      <th class=\"blank col9\" >&nbsp;</th>\n",
       "      <th class=\"blank col10\" >&nbsp;</th>\n",
       "      <th class=\"blank col11\" >&nbsp;</th>\n",
       "      <th class=\"blank col12\" >&nbsp;</th>\n",
       "      <th class=\"blank col13\" >&nbsp;</th>\n",
       "      <th class=\"blank col14\" >&nbsp;</th>\n",
       "      <th class=\"blank col15\" >&nbsp;</th>\n",
       "      <th class=\"blank col16\" >&nbsp;</th>\n",
       "    </tr>\n",
       "  </thead>\n",
       "  <tbody>\n",
       "    <tr>\n",
       "      <th id=\"T_4210c_level0_row0\" class=\"row_heading level0 row0\" >female</th>\n",
       "      <td id=\"T_4210c_row0_col0\" class=\"data row0 col0\" >0</td>\n",
       "      <td id=\"T_4210c_row0_col1\" class=\"data row0 col1\" >0</td>\n",
       "      <td id=\"T_4210c_row0_col2\" class=\"data row0 col2\" >1</td>\n",
       "      <td id=\"T_4210c_row0_col3\" class=\"data row0 col3\" >0</td>\n",
       "      <td id=\"T_4210c_row0_col4\" class=\"data row0 col4\" >1</td>\n",
       "      <td id=\"T_4210c_row0_col5\" class=\"data row0 col5\" >0</td>\n",
       "      <td id=\"T_4210c_row0_col6\" class=\"data row0 col6\" >1</td>\n",
       "      <td id=\"T_4210c_row0_col7\" class=\"data row0 col7\" >0</td>\n",
       "      <td id=\"T_4210c_row0_col8\" class=\"data row0 col8\" >0</td>\n",
       "      <td id=\"T_4210c_row0_col9\" class=\"data row0 col9\" >182</td>\n",
       "      <td id=\"T_4210c_row0_col10\" class=\"data row0 col10\" >2</td>\n",
       "      <td id=\"T_4210c_row0_col11\" class=\"data row0 col11\" >1</td>\n",
       "      <td id=\"T_4210c_row0_col12\" class=\"data row0 col12\" >0</td>\n",
       "      <td id=\"T_4210c_row0_col13\" class=\"data row0 col13\" >125</td>\n",
       "      <td id=\"T_4210c_row0_col14\" class=\"data row0 col14\" >1</td>\n",
       "      <td id=\"T_4210c_row0_col15\" class=\"data row0 col15\" >0</td>\n",
       "      <td id=\"T_4210c_row0_col16\" class=\"data row0 col16\" >0</td>\n",
       "    </tr>\n",
       "    <tr>\n",
       "      <th id=\"T_4210c_level0_row1\" class=\"row_heading level0 row1\" >male</th>\n",
       "      <td id=\"T_4210c_row1_col0\" class=\"data row1 col0\" >1</td>\n",
       "      <td id=\"T_4210c_row1_col1\" class=\"data row1 col1\" >2</td>\n",
       "      <td id=\"T_4210c_row1_col2\" class=\"data row1 col2\" >0</td>\n",
       "      <td id=\"T_4210c_row1_col3\" class=\"data row1 col3\" >1</td>\n",
       "      <td id=\"T_4210c_row1_col4\" class=\"data row1 col4\" >6</td>\n",
       "      <td id=\"T_4210c_row1_col5\" class=\"data row1 col5\" >1</td>\n",
       "      <td id=\"T_4210c_row1_col6\" class=\"data row1 col6\" >0</td>\n",
       "      <td id=\"T_4210c_row1_col7\" class=\"data row1 col7\" >2</td>\n",
       "      <td id=\"T_4210c_row1_col8\" class=\"data row1 col8\" >40</td>\n",
       "      <td id=\"T_4210c_row1_col9\" class=\"data row1 col9\" >0</td>\n",
       "      <td id=\"T_4210c_row1_col10\" class=\"data row1 col10\" >0</td>\n",
       "      <td id=\"T_4210c_row1_col11\" class=\"data row1 col11\" >0</td>\n",
       "      <td id=\"T_4210c_row1_col12\" class=\"data row1 col12\" >517</td>\n",
       "      <td id=\"T_4210c_row1_col13\" class=\"data row1 col13\" >0</td>\n",
       "      <td id=\"T_4210c_row1_col14\" class=\"data row1 col14\" >0</td>\n",
       "      <td id=\"T_4210c_row1_col15\" class=\"data row1 col15\" >6</td>\n",
       "      <td id=\"T_4210c_row1_col16\" class=\"data row1 col16\" >1</td>\n",
       "    </tr>\n",
       "  </tbody>\n",
       "</table>\n"
      ],
      "text/plain": [
       "<pandas.io.formats.style.Styler at 0x7feaff278700>"
      ]
     },
     "execution_count": 55,
     "metadata": {},
     "output_type": "execute_result"
    }
   ],
   "source": [
    "# Extracting the salutations from the name\n",
    "train_df['Initial']=0\n",
    "for i in train_df:\n",
    "    train_df['Initial']=train_df.Name.str.extract('([A-Za-z]+)\\.')\n",
    "\n",
    "# Checking the salutations with the sex\n",
    "pd.crosstab(train_df.Initial,train_df.Sex).T.style.background_gradient()"
   ]
  },
  {
   "cell_type": "markdown",
   "metadata": {},
   "source": [
    "The initial has high-cardinality at this moment, so it is best to replace initials with similar group."
   ]
  },
  {
   "cell_type": "code",
   "execution_count": 56,
   "metadata": {
    "execution": {
     "iopub.execute_input": "2023-04-04T06:40:48.333201Z",
     "iopub.status.busy": "2023-04-04T06:40:48.332671Z",
     "iopub.status.idle": "2023-04-04T06:40:48.349530Z",
     "shell.execute_reply": "2023-04-04T06:40:48.348171Z",
     "shell.execute_reply.started": "2023-04-04T06:40:48.333148Z"
    }
   },
   "outputs": [
    {
     "data": {
      "text/plain": [
       "Initial\n",
       "Master     4.574167\n",
       "Miss      21.860000\n",
       "Mr        32.739609\n",
       "Mrs       35.981818\n",
       "Other     45.888889\n",
       "Name: Age, dtype: float64"
      ]
     },
     "execution_count": 56,
     "metadata": {},
     "output_type": "execute_result"
    }
   ],
   "source": [
    "# Changing the initials of train_df\n",
    "train_df['Initial'].replace(['Mlle','Mme','Ms','Dr','Major','Lady','Countess','Jonkheer','Col','Rev','Capt','Sir','Don'],['Miss','Miss','Miss','Mr','Mr','Mrs','Mrs','Other','Other','Other','Mr','Mr','Mr'],inplace=True)\n",
    "# Checking the mean age of the intials\n",
    "train_df.groupby('Initial').Age.mean()"
   ]
  },
  {
   "cell_type": "code",
   "execution_count": 57,
   "metadata": {
    "execution": {
     "iopub.execute_input": "2023-04-04T06:40:48.352234Z",
     "iopub.status.busy": "2023-04-04T06:40:48.351686Z",
     "iopub.status.idle": "2023-04-04T06:40:48.362548Z",
     "shell.execute_reply": "2023-04-04T06:40:48.360958Z",
     "shell.execute_reply.started": "2023-04-04T06:40:48.352183Z"
    }
   },
   "outputs": [],
   "source": [
    "# Imputing the NaN age with respective salutation mean age\n",
    "age_mapping = {'Mr': 33, 'Mrs': 36, 'Master': 5, 'Miss': 22, 'Other': 46}\n",
    "train_df['Age'] = train_df['Age'].fillna(train_df['Initial'].map(age_mapping))"
   ]
  },
  {
   "cell_type": "code",
   "execution_count": 58,
   "metadata": {
    "execution": {
     "iopub.execute_input": "2023-04-04T06:40:48.365165Z",
     "iopub.status.busy": "2023-04-04T06:40:48.364447Z",
     "iopub.status.idle": "2023-04-04T06:40:48.414011Z",
     "shell.execute_reply": "2023-04-04T06:40:48.412476Z",
     "shell.execute_reply.started": "2023-04-04T06:40:48.365106Z"
    }
   },
   "outputs": [
    {
     "data": {
      "text/plain": [
       "Initial\n",
       "Dona      39.000000\n",
       "Master     7.406471\n",
       "Miss      21.774844\n",
       "Mr        32.114130\n",
       "Mrs       38.903226\n",
       "Other     42.750000\n",
       "Name: Age, dtype: float64"
      ]
     },
     "execution_count": 58,
     "metadata": {},
     "output_type": "execute_result"
    }
   ],
   "source": [
    "# Extracting the salutations from the name of test_df\n",
    "test_df['Initial']=0\n",
    "for i in test_df:\n",
    "    test_df['Initial']=test_df.Name.str.extract('([A-Za-z]+)\\.')\n",
    "\n",
    "# Changing the initials of test_df\n",
    "test_df['Initial'].replace(['Mlle','Mme','Ms','Dr','Major','Lady','Countess','Jonkheer','Col','Rev','Capt','Sir','Don'],['Miss','Miss','Miss','Mr','Mr','Mrs','Mrs','Other','Other','Other','Mr','Mr','Mr'],inplace=True)\n",
    "# Checking the mean age of the intials\n",
    "test_df.groupby('Initial').Age.mean()"
   ]
  },
  {
   "cell_type": "code",
   "execution_count": 59,
   "metadata": {
    "execution": {
     "iopub.execute_input": "2023-04-04T06:40:48.416398Z",
     "iopub.status.busy": "2023-04-04T06:40:48.415922Z",
     "iopub.status.idle": "2023-04-04T06:40:48.427719Z",
     "shell.execute_reply": "2023-04-04T06:40:48.426183Z",
     "shell.execute_reply.started": "2023-04-04T06:40:48.416333Z"
    }
   },
   "outputs": [],
   "source": [
    "# Imputing the NaN age with respective salutation mean age\n",
    "age_mapping = {'Mr': 32, 'Mrs': 39, 'Master': 7, 'Miss': 22, 'Other': 43}\n",
    "test_df['Age'] = test_df['Age'].fillna(test_df['Initial'].map(age_mapping))"
   ]
  },
  {
   "cell_type": "code",
   "execution_count": 60,
   "metadata": {
    "execution": {
     "iopub.execute_input": "2023-04-04T06:40:48.429657Z",
     "iopub.status.busy": "2023-04-04T06:40:48.429281Z",
     "iopub.status.idle": "2023-04-04T06:40:49.101090Z",
     "shell.execute_reply": "2023-04-04T06:40:49.099885Z",
     "shell.execute_reply.started": "2023-04-04T06:40:48.429619Z"
    }
   },
   "outputs": [
    {
     "data": {
      "image/png": "[encoded data removed]",
      "text/plain": [
       "<Figure size 1440x576 with 2 Axes>"
      ]
     },
     "metadata": {
      "needs_background": "light"
     },
     "output_type": "display_data"
    }
   ],
   "source": [
    "# Subplot the histogram and KDE of age \n",
    "fig,ax=plt.subplots(1,2,figsize=(20,8))\n",
    "sns.kdeplot(data=train_df,x='Age',hue='Survived',fill=True, ax=ax[0])\n",
    "sns.histplot(data=train_df,x='Age',hue='Survived', alpha=0.4 ,ax=ax[1])\n",
    "plt.show()"
   ]
  },
  {
   "cell_type": "markdown",
   "metadata": {},
   "source": [
    "From the plots, it seems like most of the passengers of age 20-40 has lower survival rate compared to the other age group. Also, passengers from age 0-10 has higher survival rate, thus age is also most likely a important feature to be selected."
   ]
  },
  {
   "cell_type": "markdown",
   "metadata": {},
   "source": [
    "#### SibSp"
   ]
  },
  {
   "cell_type": "code",
   "execution_count": 61,
   "metadata": {
    "execution": {
     "iopub.execute_input": "2023-04-04T06:40:49.104360Z",
     "iopub.status.busy": "2023-04-04T06:40:49.103369Z",
     "iopub.status.idle": "2023-04-04T06:40:49.550685Z",
     "shell.execute_reply": "2023-04-04T06:40:49.548620Z",
     "shell.execute_reply.started": "2023-04-04T06:40:49.104296Z"
    }
   },
   "outputs": [
    {
     "data": {
      "image/png": "[encoded data removed]",
      "text/plain": [
       "<Figure size 432x288 with 1 Axes>"
      ]
     },
     "metadata": {
      "needs_background": "light"
     },
     "output_type": "display_data"
    }
   ],
   "source": [
    "# Plot barchart of SibSp vs Survived\n",
    "sns.barplot(data=train_df, x='SibSp',y='Survived')\n",
    "plt.show()"
   ]
  },
  {
   "cell_type": "code",
   "execution_count": 62,
   "metadata": {
    "execution": {
     "iopub.execute_input": "2023-04-04T06:40:49.552798Z",
     "iopub.status.busy": "2023-04-04T06:40:49.552439Z",
     "iopub.status.idle": "2023-04-04T06:40:49.571210Z",
     "shell.execute_reply": "2023-04-04T06:40:49.569630Z",
     "shell.execute_reply.started": "2023-04-04T06:40:49.552763Z"
    }
   },
   "outputs": [
    {
     "data": {
      "text/html": [
       "<div>\n",
       "<style scoped>\n",
       "    .dataframe tbody tr th:only-of-type {\n",
       "        vertical-align: middle;\n",
       "    }\n",
       "\n",
       "    .dataframe tbody tr th {\n",
       "        vertical-align: top;\n",
       "    }\n",
       "\n",
       "    .dataframe thead th {\n",
       "        text-align: right;\n",
       "    }\n",
       "</style>\n",
       "<table border=\"1\" class=\"dataframe\">\n",
       "  <thead>\n",
       "    <tr style=\"text-align: right;\">\n",
       "      <th></th>\n",
       "      <th>SibSp</th>\n",
       "      <th>Survived</th>\n",
       "    </tr>\n",
       "  </thead>\n",
       "  <tbody>\n",
       "    <tr>\n",
       "      <th>1</th>\n",
       "      <td>1</td>\n",
       "      <td>0.535885</td>\n",
       "    </tr>\n",
       "    <tr>\n",
       "      <th>2</th>\n",
       "      <td>2</td>\n",
       "      <td>0.464286</td>\n",
       "    </tr>\n",
       "    <tr>\n",
       "      <th>0</th>\n",
       "      <td>0</td>\n",
       "      <td>0.345395</td>\n",
       "    </tr>\n",
       "    <tr>\n",
       "      <th>3</th>\n",
       "      <td>3</td>\n",
       "      <td>0.250000</td>\n",
       "    </tr>\n",
       "    <tr>\n",
       "      <th>4</th>\n",
       "      <td>4</td>\n",
       "      <td>0.166667</td>\n",
       "    </tr>\n",
       "    <tr>\n",
       "      <th>5</th>\n",
       "      <td>5</td>\n",
       "      <td>0.000000</td>\n",
       "    </tr>\n",
       "    <tr>\n",
       "      <th>6</th>\n",
       "      <td>8</td>\n",
       "      <td>0.000000</td>\n",
       "    </tr>\n",
       "  </tbody>\n",
       "</table>\n",
       "</div>"
      ],
      "text/plain": [
       "   SibSp  Survived\n",
       "1      1  0.535885\n",
       "2      2  0.464286\n",
       "0      0  0.345395\n",
       "3      3  0.250000\n",
       "4      4  0.166667\n",
       "5      5  0.000000\n",
       "6      8  0.000000"
      ]
     },
     "execution_count": 62,
     "metadata": {},
     "output_type": "execute_result"
    }
   ],
   "source": [
    "# Groupby SibSp to get the mean of survival rate\n",
    "train_df.groupby('SibSp', as_index=False).Survived.mean().sort_values(by='Survived',ascending=False)"
   ]
  },
  {
   "cell_type": "markdown",
   "metadata": {},
   "source": [
    "Looking at SibSp, it seems like the higher number of siblings, the lower the chances of survival. Thus SibSp should also be in the feature selection."
   ]
  },
  {
   "cell_type": "markdown",
   "metadata": {},
   "source": [
    "#### Parch"
   ]
  },
  {
   "cell_type": "code",
   "execution_count": 63,
   "metadata": {
    "execution": {
     "iopub.execute_input": "2023-04-04T06:40:49.579153Z",
     "iopub.status.busy": "2023-04-04T06:40:49.577834Z",
     "iopub.status.idle": "2023-04-04T06:40:49.975378Z",
     "shell.execute_reply": "2023-04-04T06:40:49.973932Z",
     "shell.execute_reply.started": "2023-04-04T06:40:49.579100Z"
    }
   },
   "outputs": [
    {
     "data": {
      "image/png": "[encoded data removed]",
      "text/plain": [
       "<Figure size 432x288 with 1 Axes>"
      ]
     },
     "metadata": {
      "needs_background": "light"
     },
     "output_type": "display_data"
    }
   ],
   "source": [
    "# Plot barchart of Parch vs Survived\n",
    "sns.barplot(data=train_df, x='Parch', y='Survived')\n",
    "plt.show()"
   ]
  },
  {
   "cell_type": "code",
   "execution_count": 64,
   "metadata": {
    "execution": {
     "iopub.execute_input": "2023-04-04T06:40:49.977337Z",
     "iopub.status.busy": "2023-04-04T06:40:49.976937Z",
     "iopub.status.idle": "2023-04-04T06:40:49.996085Z",
     "shell.execute_reply": "2023-04-04T06:40:49.994611Z",
     "shell.execute_reply.started": "2023-04-04T06:40:49.977299Z"
    }
   },
   "outputs": [
    {
     "data": {
      "text/html": [
       "<div>\n",
       "<style scoped>\n",
       "    .dataframe tbody tr th:only-of-type {\n",
       "        vertical-align: middle;\n",
       "    }\n",
       "\n",
       "    .dataframe tbody tr th {\n",
       "        vertical-align: top;\n",
       "    }\n",
       "\n",
       "    .dataframe thead th {\n",
       "        text-align: right;\n",
       "    }\n",
       "</style>\n",
       "<table border=\"1\" class=\"dataframe\">\n",
       "  <thead>\n",
       "    <tr style=\"text-align: right;\">\n",
       "      <th></th>\n",
       "      <th>Parch</th>\n",
       "      <th>Survived</th>\n",
       "    </tr>\n",
       "  </thead>\n",
       "  <tbody>\n",
       "    <tr>\n",
       "      <th>3</th>\n",
       "      <td>3</td>\n",
       "      <td>0.600000</td>\n",
       "    </tr>\n",
       "    <tr>\n",
       "      <th>1</th>\n",
       "      <td>1</td>\n",
       "      <td>0.550847</td>\n",
       "    </tr>\n",
       "    <tr>\n",
       "      <th>2</th>\n",
       "      <td>2</td>\n",
       "      <td>0.500000</td>\n",
       "    </tr>\n",
       "    <tr>\n",
       "      <th>0</th>\n",
       "      <td>0</td>\n",
       "      <td>0.343658</td>\n",
       "    </tr>\n",
       "    <tr>\n",
       "      <th>5</th>\n",
       "      <td>5</td>\n",
       "      <td>0.200000</td>\n",
       "    </tr>\n",
       "    <tr>\n",
       "      <th>4</th>\n",
       "      <td>4</td>\n",
       "      <td>0.000000</td>\n",
       "    </tr>\n",
       "    <tr>\n",
       "      <th>6</th>\n",
       "      <td>6</td>\n",
       "      <td>0.000000</td>\n",
       "    </tr>\n",
       "  </tbody>\n",
       "</table>\n",
       "</div>"
      ],
      "text/plain": [
       "   Parch  Survived\n",
       "3      3  0.600000\n",
       "1      1  0.550847\n",
       "2      2  0.500000\n",
       "0      0  0.343658\n",
       "5      5  0.200000\n",
       "4      4  0.000000\n",
       "6      6  0.000000"
      ]
     },
     "execution_count": 64,
     "metadata": {},
     "output_type": "execute_result"
    }
   ],
   "source": [
    "# Group Parch to get the mean of survival rate\n",
    "train_df.groupby('Parch', as_index=False).Survived.mean().sort_values(by='Survived',ascending=False)"
   ]
  },
  {
   "cell_type": "markdown",
   "metadata": {},
   "source": [
    "Generally it seems like there is not much trend in the Parch columns, however, passengers with >0 Parch has a higher survivability which then goes down when the number gets too high"
   ]
  },
  {
   "cell_type": "markdown",
   "metadata": {},
   "source": [
    "#### Ticket"
   ]
  },
  {
   "cell_type": "markdown",
   "metadata": {
    "execution": {
     "iopub.execute_input": "2023-03-31T09:08:06.385482Z",
     "iopub.status.busy": "2023-03-31T09:08:06.385042Z",
     "iopub.status.idle": "2023-03-31T09:08:06.394397Z",
     "shell.execute_reply": "2023-03-31T09:08:06.393033Z",
     "shell.execute_reply.started": "2023-03-31T09:08:06.385439Z"
    }
   },
   "source": [
    "Same as the name column, the ticket column does not provide any useful information that can be used to predict the survivability of the passenger. Thus this column will be dropped."
   ]
  },
  {
   "cell_type": "markdown",
   "metadata": {},
   "source": [
    "#### Fare"
   ]
  },
  {
   "cell_type": "code",
   "execution_count": 65,
   "metadata": {
    "execution": {
     "iopub.execute_input": "2023-04-04T06:40:49.999228Z",
     "iopub.status.busy": "2023-04-04T06:40:49.998799Z",
     "iopub.status.idle": "2023-04-04T06:40:50.733586Z",
     "shell.execute_reply": "2023-04-04T06:40:50.732266Z",
     "shell.execute_reply.started": "2023-04-04T06:40:49.999188Z"
    }
   },
   "outputs": [
    {
     "data": {
      "image/png": "[encoded data removed]",
      "text/plain": [
       "<Figure size 432x288 with 1 Axes>"
      ]
     },
     "metadata": {
      "needs_background": "light"
     },
     "output_type": "display_data"
    }
   ],
   "source": [
    "# Plot histogram of Fare with Survived as hue\n",
    "sns.histplot(data=train_df, x='Fare', hue='Survived')\n",
    "plt.show()"
   ]
  },
  {
   "cell_type": "markdown",
   "metadata": {},
   "source": [
    "The Fare histogram indicates that passengers who paid a higher fare had a better chance of surviving compared to those who paid a lower fare. This correlation is likely linked to the Pclass of the tickets, as previously shown in the plot, where a higher Pclass is associated with a greater likelihood of survival."
   ]
  },
  {
   "cell_type": "markdown",
   "metadata": {},
   "source": [
    "#### Cabin\n",
    "\n",
    "Cabin is the different passengers room assigned. It could be useful to use as a feature, however, cabin has 687 missing rows which can be difficult to impute and eventually lead to inaccuracy. Thus cabin will be dropped as well."
   ]
  },
  {
   "cell_type": "markdown",
   "metadata": {},
   "source": [
    "#### Embarked\n",
    "\n",
    "There are 2 missing entry of Embarked, **Stone, Mrs. George Nelson (Martha Evelyn)** and **Amelie Icard**. With a simple google search, I was able to find their port of embark which is Southampton. \n",
    "\n",
    "\"Mrs Stone boarded the Titanic in Southampton on 10 April 1912 and was travelling in first class with her maid Amelie Icard. She occupied cabin B-28.\""
   ]
  },
  {
   "cell_type": "code",
   "execution_count": 66,
   "metadata": {
    "execution": {
     "iopub.execute_input": "2023-04-04T06:40:50.735884Z",
     "iopub.status.busy": "2023-04-04T06:40:50.735382Z",
     "iopub.status.idle": "2023-04-04T06:40:50.756161Z",
     "shell.execute_reply": "2023-04-04T06:40:50.754812Z",
     "shell.execute_reply.started": "2023-04-04T06:40:50.735829Z"
    }
   },
   "outputs": [
    {
     "data": {
      "text/html": [
       "<div>\n",
       "<style scoped>\n",
       "    .dataframe tbody tr th:only-of-type {\n",
       "        vertical-align: middle;\n",
       "    }\n",
       "\n",
       "    .dataframe tbody tr th {\n",
       "        vertical-align: top;\n",
       "    }\n",
       "\n",
       "    .dataframe thead th {\n",
       "        text-align: right;\n",
       "    }\n",
       "</style>\n",
       "<table border=\"1\" class=\"dataframe\">\n",
       "  <thead>\n",
       "    <tr style=\"text-align: right;\">\n",
       "      <th></th>\n",
       "      <th>PassengerId</th>\n",
       "      <th>Survived</th>\n",
       "      <th>Pclass</th>\n",
       "      <th>Name</th>\n",
       "      <th>Sex</th>\n",
       "      <th>Age</th>\n",
       "      <th>SibSp</th>\n",
       "      <th>Parch</th>\n",
       "      <th>Ticket</th>\n",
       "      <th>Fare</th>\n",
       "      <th>Cabin</th>\n",
       "      <th>Embarked</th>\n",
       "      <th>Initial</th>\n",
       "    </tr>\n",
       "  </thead>\n",
       "  <tbody>\n",
       "    <tr>\n",
       "      <th>61</th>\n",
       "      <td>62</td>\n",
       "      <td>1</td>\n",
       "      <td>1</td>\n",
       "      <td>Icard, Miss. Amelie</td>\n",
       "      <td>female</td>\n",
       "      <td>38.0</td>\n",
       "      <td>0</td>\n",
       "      <td>0</td>\n",
       "      <td>113572</td>\n",
       "      <td>80.0</td>\n",
       "      <td>B28</td>\n",
       "      <td>NaN</td>\n",
       "      <td>Miss</td>\n",
       "    </tr>\n",
       "    <tr>\n",
       "      <th>829</th>\n",
       "      <td>830</td>\n",
       "      <td>1</td>\n",
       "      <td>1</td>\n",
       "      <td>Stone, Mrs. George Nelson (Martha Evelyn)</td>\n",
       "      <td>female</td>\n",
       "      <td>62.0</td>\n",
       "      <td>0</td>\n",
       "      <td>0</td>\n",
       "      <td>113572</td>\n",
       "      <td>80.0</td>\n",
       "      <td>B28</td>\n",
       "      <td>NaN</td>\n",
       "      <td>Mrs</td>\n",
       "    </tr>\n",
       "  </tbody>\n",
       "</table>\n",
       "</div>"
      ],
      "text/plain": [
       "     PassengerId  Survived  Pclass                                       Name  \\\n",
       "61            62         1       1                        Icard, Miss. Amelie   \n",
       "829          830         1       1  Stone, Mrs. George Nelson (Martha Evelyn)   \n",
       "\n",
       "        Sex   Age  SibSp  Parch  Ticket  Fare Cabin Embarked Initial  \n",
       "61   female  38.0      0      0  113572  80.0   B28      NaN    Miss  \n",
       "829  female  62.0      0      0  113572  80.0   B28      NaN     Mrs  "
      ]
     },
     "execution_count": 66,
     "metadata": {},
     "output_type": "execute_result"
    }
   ],
   "source": [
    "# Locate NaN entry for embarked\n",
    "train_df.loc[train_df['Embarked'].isnull()]"
   ]
  },
  {
   "cell_type": "code",
   "execution_count": 67,
   "metadata": {
    "execution": {
     "iopub.execute_input": "2023-04-04T06:40:50.758485Z",
     "iopub.status.busy": "2023-04-04T06:40:50.757690Z",
     "iopub.status.idle": "2023-04-04T06:40:50.768323Z",
     "shell.execute_reply": "2023-04-04T06:40:50.766951Z",
     "shell.execute_reply.started": "2023-04-04T06:40:50.758424Z"
    }
   },
   "outputs": [],
   "source": [
    "# Fill in Southampton as their embarked location\n",
    "train_df['Embarked'] = train_df['Embarked'].fillna('S')"
   ]
  },
  {
   "cell_type": "code",
   "execution_count": 68,
   "metadata": {
    "execution": {
     "iopub.execute_input": "2023-04-04T06:40:50.770153Z",
     "iopub.status.busy": "2023-04-04T06:40:50.769740Z",
     "iopub.status.idle": "2023-04-04T06:40:51.082238Z",
     "shell.execute_reply": "2023-04-04T06:40:51.080321Z",
     "shell.execute_reply.started": "2023-04-04T06:40:50.770112Z"
    }
   },
   "outputs": [
    {
     "data": {
      "image/png": "[encoded data removed]",
      "text/plain": [
       "<Figure size 432x288 with 1 Axes>"
      ]
     },
     "metadata": {
      "needs_background": "light"
     },
     "output_type": "display_data"
    }
   ],
   "source": [
    "# Plot barchart of Embarked vs Survived\n",
    "sns.barplot(data=train_df, x='Embarked', y='Survived')\n",
    "plt.show()"
   ]
  },
  {
   "cell_type": "code",
   "execution_count": 69,
   "metadata": {
    "execution": {
     "iopub.execute_input": "2023-04-04T06:40:51.084422Z",
     "iopub.status.busy": "2023-04-04T06:40:51.084048Z",
     "iopub.status.idle": "2023-04-04T06:40:51.103455Z",
     "shell.execute_reply": "2023-04-04T06:40:51.102029Z",
     "shell.execute_reply.started": "2023-04-04T06:40:51.084388Z"
    }
   },
   "outputs": [
    {
     "data": {
      "text/html": [
       "<div>\n",
       "<style scoped>\n",
       "    .dataframe tbody tr th:only-of-type {\n",
       "        vertical-align: middle;\n",
       "    }\n",
       "\n",
       "    .dataframe tbody tr th {\n",
       "        vertical-align: top;\n",
       "    }\n",
       "\n",
       "    .dataframe thead th {\n",
       "        text-align: right;\n",
       "    }\n",
       "</style>\n",
       "<table border=\"1\" class=\"dataframe\">\n",
       "  <thead>\n",
       "    <tr style=\"text-align: right;\">\n",
       "      <th></th>\n",
       "      <th>Embarked</th>\n",
       "      <th>Survived</th>\n",
       "    </tr>\n",
       "  </thead>\n",
       "  <tbody>\n",
       "    <tr>\n",
       "      <th>0</th>\n",
       "      <td>C</td>\n",
       "      <td>0.553571</td>\n",
       "    </tr>\n",
       "    <tr>\n",
       "      <th>1</th>\n",
       "      <td>Q</td>\n",
       "      <td>0.389610</td>\n",
       "    </tr>\n",
       "    <tr>\n",
       "      <th>2</th>\n",
       "      <td>S</td>\n",
       "      <td>0.339009</td>\n",
       "    </tr>\n",
       "  </tbody>\n",
       "</table>\n",
       "</div>"
      ],
      "text/plain": [
       "  Embarked  Survived\n",
       "0        C  0.553571\n",
       "1        Q  0.389610\n",
       "2        S  0.339009"
      ]
     },
     "execution_count": 69,
     "metadata": {},
     "output_type": "execute_result"
    }
   ],
   "source": [
    "# Group by Embarked to get the mean of survival rate\n",
    "train_df.groupby('Embarked',as_index=False).Survived.mean()"
   ]
  },
  {
   "cell_type": "markdown",
   "metadata": {},
   "source": [
    "From the plot, it seems that passengers who embarked from Cherbourgh has a higher survival rate. Thus this will be also used as a feature."
   ]
  },
  {
   "cell_type": "markdown",
   "metadata": {},
   "source": [
    "<a id=\"subsection-four\"></a>\n",
    "### Transforming data\n",
    "\n",
    "The different types of features can be categorized into two main groups: **categorical** and **continuous**.\\\n",
    "Categorical features are variables that have two or more categories. When these variables cannot be sorted or ordered, it is known as **nominal** variables. Examples of nominal features in the dataset include sex and embarked. However, when they can be sorted or ordered based on their relative values, they are known as **ordinal** features. For instance, the height feature with values tall, medium, and short is an ordinal variable because it can be sorted based on relative height. An example of an ordinal feature in the dataset is PClass.\n",
    "\n",
    "Finally, continuous features are those that can take any value between the minimum and maximum values of the feature column. These features are referred to as continuous because they can take on an infinite number of values within a given range. An example of continuous feature in this dataset is Fare."
   ]
  },
  {
   "cell_type": "code",
   "execution_count": 70,
   "metadata": {
    "execution": {
     "iopub.execute_input": "2023-04-04T06:40:51.105311Z",
     "iopub.status.busy": "2023-04-04T06:40:51.104929Z",
     "iopub.status.idle": "2023-04-04T06:40:51.121230Z",
     "shell.execute_reply": "2023-04-04T06:40:51.119660Z",
     "shell.execute_reply.started": "2023-04-04T06:40:51.105275Z"
    }
   },
   "outputs": [],
   "source": [
    "# Onehotencode nominal features for train_df\n",
    "\n",
    "# Create an instance of the encoder\n",
    "onehot_encoder = OneHotEncoder()\n",
    "\n",
    "# Fit the encoder to the 'Sex' column and transform the data\n",
    "sex_onehot = onehot_encoder.fit_transform(train_df['Sex'].values.reshape(-1,1)).toarray()\n",
    "sex_df = pd.DataFrame(sex_onehot, columns=['female', 'male'])\n",
    "train_df = pd.concat([train_df, sex_df], axis=1)\n",
    "\n",
    "# Fit the encoder to the 'Embarked' column and transform the data\n",
    "embarked_onehot = onehot_encoder.fit_transform(train_df['Embarked'].values.reshape(-1,1)).toarray()\n",
    "embarked_df = pd.DataFrame(embarked_onehot, columns=['C', 'Q', 'S'])\n",
    "train_df = pd.concat([train_df, embarked_df], axis=1)"
   ]
  },
  {
   "cell_type": "code",
   "execution_count": 71,
   "metadata": {
    "execution": {
     "iopub.execute_input": "2023-04-04T06:40:51.122909Z",
     "iopub.status.busy": "2023-04-04T06:40:51.122568Z",
     "iopub.status.idle": "2023-04-04T06:40:51.139154Z",
     "shell.execute_reply": "2023-04-04T06:40:51.137574Z",
     "shell.execute_reply.started": "2023-04-04T06:40:51.122877Z"
    }
   },
   "outputs": [],
   "source": [
    "# Onehotencode nominal features for test_df\n",
    "# Fit the encoder to the 'Sex' column and transform the data\n",
    "sex_onehot = onehot_encoder.fit_transform(test_df['Sex'].values.reshape(-1,1)).toarray()\n",
    "sex_df = pd.DataFrame(sex_onehot, columns=['female', 'male'])\n",
    "test_df = pd.concat([test_df, sex_df], axis=1)\n",
    "\n",
    "# Fit the encoder to the 'Embarked' column and transform the data\n",
    "embarked_onehot = onehot_encoder.fit_transform(test_df['Embarked'].values.reshape(-1,1)).toarray()\n",
    "embarked_df = pd.DataFrame(embarked_onehot, columns=['C', 'Q', 'S'])\n",
    "test_df = pd.concat([test_df, embarked_df], axis=1)"
   ]
  },
  {
   "cell_type": "code",
   "execution_count": 72,
   "metadata": {
    "execution": {
     "iopub.execute_input": "2023-04-04T06:40:51.142206Z",
     "iopub.status.busy": "2023-04-04T06:40:51.141638Z",
     "iopub.status.idle": "2023-04-04T06:40:51.155434Z",
     "shell.execute_reply": "2023-04-04T06:40:51.153663Z",
     "shell.execute_reply.started": "2023-04-04T06:40:51.142151Z"
    }
   },
   "outputs": [],
   "source": [
    "# Dropping not related features\n",
    "cols_to_drop = ['PassengerId','Name','Ticket','Cabin','Initial','Sex','Embarked',]\n",
    "train_df = train_df.drop(columns=cols_to_drop)\n",
    "test_df = test_df.drop(columns=cols_to_drop)"
   ]
  },
  {
   "cell_type": "markdown",
   "metadata": {},
   "source": [
    "Lets take a final look at our data before going on to modelling"
   ]
  },
  {
   "cell_type": "code",
   "execution_count": 73,
   "metadata": {
    "execution": {
     "iopub.execute_input": "2023-04-04T06:40:51.158100Z",
     "iopub.status.busy": "2023-04-04T06:40:51.157330Z",
     "iopub.status.idle": "2023-04-04T06:40:51.178757Z",
     "shell.execute_reply": "2023-04-04T06:40:51.177286Z",
     "shell.execute_reply.started": "2023-04-04T06:40:51.158058Z"
    }
   },
   "outputs": [
    {
     "data": {
      "text/html": [
       "<div>\n",
       "<style scoped>\n",
       "    .dataframe tbody tr th:only-of-type {\n",
       "        vertical-align: middle;\n",
       "    }\n",
       "\n",
       "    .dataframe tbody tr th {\n",
       "        vertical-align: top;\n",
       "    }\n",
       "\n",
       "    .dataframe thead th {\n",
       "        text-align: right;\n",
       "    }\n",
       "</style>\n",
       "<table border=\"1\" class=\"dataframe\">\n",
       "  <thead>\n",
       "    <tr style=\"text-align: right;\">\n",
       "      <th></th>\n",
       "      <th>Survived</th>\n",
       "      <th>Pclass</th>\n",
       "      <th>Age</th>\n",
       "      <th>SibSp</th>\n",
       "      <th>Parch</th>\n",
       "      <th>Fare</th>\n",
       "      <th>female</th>\n",
       "      <th>male</th>\n",
       "      <th>C</th>\n",
       "      <th>Q</th>\n",
       "      <th>S</th>\n",
       "    </tr>\n",
       "  </thead>\n",
       "  <tbody>\n",
       "    <tr>\n",
       "      <th>0</th>\n",
       "      <td>0</td>\n",
       "      <td>3</td>\n",
       "      <td>22.0</td>\n",
       "      <td>1</td>\n",
       "      <td>0</td>\n",
       "      <td>7.2500</td>\n",
       "      <td>0.0</td>\n",
       "      <td>1.0</td>\n",
       "      <td>0.0</td>\n",
       "      <td>0.0</td>\n",
       "      <td>1.0</td>\n",
       "    </tr>\n",
       "    <tr>\n",
       "      <th>1</th>\n",
       "      <td>1</td>\n",
       "      <td>1</td>\n",
       "      <td>38.0</td>\n",
       "      <td>1</td>\n",
       "      <td>0</td>\n",
       "      <td>71.2833</td>\n",
       "      <td>1.0</td>\n",
       "      <td>0.0</td>\n",
       "      <td>1.0</td>\n",
       "      <td>0.0</td>\n",
       "      <td>0.0</td>\n",
       "    </tr>\n",
       "    <tr>\n",
       "      <th>2</th>\n",
       "      <td>1</td>\n",
       "      <td>3</td>\n",
       "      <td>26.0</td>\n",
       "      <td>0</td>\n",
       "      <td>0</td>\n",
       "      <td>7.9250</td>\n",
       "      <td>1.0</td>\n",
       "      <td>0.0</td>\n",
       "      <td>0.0</td>\n",
       "      <td>0.0</td>\n",
       "      <td>1.0</td>\n",
       "    </tr>\n",
       "    <tr>\n",
       "      <th>3</th>\n",
       "      <td>1</td>\n",
       "      <td>1</td>\n",
       "      <td>35.0</td>\n",
       "      <td>1</td>\n",
       "      <td>0</td>\n",
       "      <td>53.1000</td>\n",
       "      <td>1.0</td>\n",
       "      <td>0.0</td>\n",
       "      <td>0.0</td>\n",
       "      <td>0.0</td>\n",
       "      <td>1.0</td>\n",
       "    </tr>\n",
       "    <tr>\n",
       "      <th>4</th>\n",
       "      <td>0</td>\n",
       "      <td>3</td>\n",
       "      <td>35.0</td>\n",
       "      <td>0</td>\n",
       "      <td>0</td>\n",
       "      <td>8.0500</td>\n",
       "      <td>0.0</td>\n",
       "      <td>1.0</td>\n",
       "      <td>0.0</td>\n",
       "      <td>0.0</td>\n",
       "      <td>1.0</td>\n",
       "    </tr>\n",
       "  </tbody>\n",
       "</table>\n",
       "</div>"
      ],
      "text/plain": [
       "   Survived  Pclass   Age  SibSp  Parch     Fare  female  male    C    Q    S\n",
       "0         0       3  22.0      1      0   7.2500     0.0   1.0  0.0  0.0  1.0\n",
       "1         1       1  38.0      1      0  71.2833     1.0   0.0  1.0  0.0  0.0\n",
       "2         1       3  26.0      0      0   7.9250     1.0   0.0  0.0  0.0  1.0\n",
       "3         1       1  35.0      1      0  53.1000     1.0   0.0  0.0  0.0  1.0\n",
       "4         0       3  35.0      0      0   8.0500     0.0   1.0  0.0  0.0  1.0"
      ]
     },
     "execution_count": 73,
     "metadata": {},
     "output_type": "execute_result"
    }
   ],
   "source": [
    "train_df.head()"
   ]
  },
  {
   "cell_type": "markdown",
   "metadata": {},
   "source": [
    "<a id=\"section-three\"></a>\n",
    "## Modelling and predicting\n",
    "\n",
    "Having completed our exploratory data analysis, we now turn our attention to building a predictive model to help us understand the relationships between various features and the likelihood of survival on the Titanic. Our goal is to identify the best algorithm that can classify the passengers into survivors and non-survivors with high accuracy, using the insights gained from the EDA. \n",
    "\n",
    "We have selected several supervised learning algorithms to evaluate their performance in solving this classification problem as follows:\n",
    "\n",
    "1) Logistic regression\n",
    "2) k-Nearest Neighbors\n",
    "3) Support vector machine\n",
    "4) Decision tree \n",
    "5) Random forest\n",
    "6) XGBoost\n",
    "\n",
    "By leveraging the strengths of these algorithms and fine-tuning their parameters, we aim to build a model that can accurately predict the survival of passengers on the Titanic."
   ]
  },
  {
   "cell_type": "code",
   "execution_count": 74,
   "metadata": {
    "execution": {
     "iopub.execute_input": "2023-04-04T06:40:51.180714Z",
     "iopub.status.busy": "2023-04-04T06:40:51.180353Z",
     "iopub.status.idle": "2023-04-04T06:40:51.209501Z",
     "shell.execute_reply": "2023-04-04T06:40:51.208001Z",
     "shell.execute_reply.started": "2023-04-04T06:40:51.180680Z"
    }
   },
   "outputs": [],
   "source": [
    "# Splitting train_df to train test split\n",
    "X_train, X_test, y_train, y_test = train_test_split(train_df.drop(columns='Survived'),train_df['Survived'],test_size=0.2,random_state=50)\n",
    "\n",
    "# Scaling the data\n",
    "scaler = StandardScaler()\n",
    "scaler.fit(X_train)\n",
    "\n",
    "X_train = scaler.transform(X_train)\n",
    "X_test = scaler.transform(X_test)\n",
    "test_df = scaler.transform(test_df)"
   ]
  },
  {
   "cell_type": "code",
   "execution_count": 75,
   "metadata": {
    "execution": {
     "iopub.execute_input": "2023-04-04T06:40:51.228620Z",
     "iopub.status.busy": "2023-04-04T06:40:51.228191Z",
     "iopub.status.idle": "2023-04-04T06:40:51.242750Z",
     "shell.execute_reply": "2023-04-04T06:40:51.241009Z",
     "shell.execute_reply.started": "2023-04-04T06:40:51.228582Z"
    }
   },
   "outputs": [
    {
     "name": "stdout",
     "output_type": "stream",
     "text": [
      "Accuracy for logistic regression: 0.7988826815642458\n"
     ]
    }
   ],
   "source": [
    "# Fit logistic regression model and predict\n",
    "lrmodel = LogisticRegression(max_iter=500)\n",
    "lrmodel.fit(X_train,y_train)\n",
    "lr_pred = lrmodel.predict(X_test)\n",
    "\n",
    "# Accuracy of logistic regression model \n",
    "lr_acc = accuracy_score(y_test,lr_pred)\n",
    "print(\"Accuracy for logistic regression:\", lr_acc)"
   ]
  },
  {
   "cell_type": "code",
   "execution_count": 76,
   "metadata": {
    "execution": {
     "iopub.execute_input": "2023-04-04T06:40:51.245179Z",
     "iopub.status.busy": "2023-04-04T06:40:51.244762Z",
     "iopub.status.idle": "2023-04-04T06:40:51.612957Z",
     "shell.execute_reply": "2023-04-04T06:40:51.611534Z",
     "shell.execute_reply.started": "2023-04-04T06:40:51.245140Z"
    }
   },
   "outputs": [
    {
     "data": {
      "image/png": "[encoded data removed]",
      "text/plain": [
       "<Figure size 864x432 with 1 Axes>"
      ]
     },
     "metadata": {
      "needs_background": "light"
     },
     "output_type": "display_data"
    },
    {
     "name": "stdout",
     "output_type": "stream",
     "text": [
      "Accuracy for best n kNN model: 0.8100558659217877\n"
     ]
    }
   ],
   "source": [
    "# Fit k_Nearest Neighbors and predict for different n neighbors\n",
    "knn_index = list(range(1, 11))\n",
    "knn = pd.Series(dtype=float)\n",
    "x = [0, 1, 2, 3, 4, 5, 6, 7, 8, 9, 10]\n",
    "knn_lst = []\n",
    "for i in list(range(1, 11)):\n",
    "    knnmodel = KNeighborsClassifier(n_neighbors=i) \n",
    "    knnmodel.fit(X_train, y_train)\n",
    "    knn_pred = knnmodel.predict(X_test)\n",
    "    knn_lst.append(accuracy_score(knn_pred, y_test))\n",
    "\n",
    "knn = pd.concat([knn, pd.Series(knn_lst)])\n",
    "\n",
    "plt.figure(figsize=(12, 6))\n",
    "plt.plot(knn_index, knn)\n",
    "plt.xticks(x)\n",
    "plt.title(\"kNN model for different n\")\n",
    "plt.show()\n",
    "print('Accuracy for best n kNN model:' , knn.values.max())\n"
   ]
  },
  {
   "cell_type": "code",
   "execution_count": 77,
   "metadata": {
    "execution": {
     "iopub.execute_input": "2023-04-04T06:40:51.615819Z",
     "iopub.status.busy": "2023-04-04T06:40:51.615374Z",
     "iopub.status.idle": "2023-04-04T06:40:51.769802Z",
     "shell.execute_reply": "2023-04-04T06:40:51.768669Z",
     "shell.execute_reply.started": "2023-04-04T06:40:51.615773Z"
    }
   },
   "outputs": [
    {
     "name": "stdout",
     "output_type": "stream",
     "text": [
      "Accuracy for Linear SVM: 0.7932960893854749\n",
      "Accuracy for RBF SVM: 0.8100558659217877\n",
      "Accuracy for Polynomial SVM: 0.7988826815642458\n"
     ]
    }
   ],
   "source": [
    "# Fit support vector machine and predict\n",
    "\n",
    "# Linear SVM\n",
    "lsvm = LinearSVC(max_iter=5000)\n",
    "lsvm.fit(X_train,y_train)\n",
    "lsvm_pred = lsvm.predict(X_test)\n",
    "\n",
    "# RBF SVM\n",
    "rbfsvm = SVC(kernel=\"rbf\")\n",
    "rbfsvm.fit(X_train,y_train)\n",
    "rbfsvm_pred = rbfsvm.predict(X_test)\n",
    "\n",
    "# Polynomial SVM\n",
    "polysvm = SVC(kernel=\"poly\")\n",
    "polysvm.fit(X_train,y_train)\n",
    "polysvm_pred = polysvm.predict(X_test)\n",
    "\n",
    "# Accuracy for SVMs\n",
    "lsvm_acc = accuracy_score(y_test,lsvm_pred)\n",
    "rbfsvm_acc = accuracy_score(y_test,rbfsvm_pred)\n",
    "polysvm_acc = accuracy_score(y_test,polysvm_pred)\n",
    "\n",
    "print(\"Accuracy for Linear SVM:\", lsvm_acc)\n",
    "print(\"Accuracy for RBF SVM:\", rbfsvm_acc)\n",
    "print(\"Accuracy for Polynomial SVM:\", polysvm_acc)"
   ]
  },
  {
   "cell_type": "code",
   "execution_count": 78,
   "metadata": {
    "execution": {
     "iopub.execute_input": "2023-04-04T06:40:51.771349Z",
     "iopub.status.busy": "2023-04-04T06:40:51.770950Z",
     "iopub.status.idle": "2023-04-04T06:40:51.785150Z",
     "shell.execute_reply": "2023-04-04T06:40:51.783869Z",
     "shell.execute_reply.started": "2023-04-04T06:40:51.771312Z"
    }
   },
   "outputs": [
    {
     "name": "stdout",
     "output_type": "stream",
     "text": [
      "Accuracy of Decision tree: 0.7821229050279329\n"
     ]
    }
   ],
   "source": [
    "# Decision tree\n",
    "treemodel = DecisionTreeClassifier()\n",
    "treemodel.fit(X_train,y_train)\n",
    "treemodel_pred = treemodel.predict(X_test)\n",
    "\n",
    "# Accuracy of Decision tree\n",
    "treemodel_acc = accuracy_score(y_test,treemodel_pred)\n",
    "print(\"Accuracy of Decision tree:\", treemodel_acc)"
   ]
  },
  {
   "cell_type": "code",
   "execution_count": 79,
   "metadata": {
    "execution": {
     "iopub.execute_input": "2023-04-04T06:40:51.787438Z",
     "iopub.status.busy": "2023-04-04T06:40:51.786986Z",
     "iopub.status.idle": "2023-04-04T06:40:52.025651Z",
     "shell.execute_reply": "2023-04-04T06:40:52.024002Z",
     "shell.execute_reply.started": "2023-04-04T06:40:51.787315Z"
    }
   },
   "outputs": [
    {
     "name": "stdout",
     "output_type": "stream",
     "text": [
      "Accuracy of Random forest: 0.8156424581005587\n"
     ]
    }
   ],
   "source": [
    "# Random forest\n",
    "forestmodel = RandomForestClassifier()\n",
    "forestmodel.fit(X_train,y_train)\n",
    "forestmodel_pred = forestmodel.predict(X_test)\n",
    "\n",
    "# Accuracy of Random forest\n",
    "forestmodel_acc = accuracy_score(y_test,forestmodel_pred)\n",
    "print(\"Accuracy of Random forest:\", forestmodel_acc)"
   ]
  },
  {
   "cell_type": "code",
   "execution_count": 80,
   "metadata": {
    "execution": {
     "iopub.execute_input": "2023-04-04T06:40:52.027438Z",
     "iopub.status.busy": "2023-04-04T06:40:52.027098Z",
     "iopub.status.idle": "2023-04-04T06:40:52.176149Z",
     "shell.execute_reply": "2023-04-04T06:40:52.174389Z",
     "shell.execute_reply.started": "2023-04-04T06:40:52.027405Z"
    }
   },
   "outputs": [
    {
     "name": "stdout",
     "output_type": "stream",
     "text": [
      "Accuracy of XGBoost: 0.8044692737430168\n"
     ]
    }
   ],
   "source": [
    "# XGBoost\n",
    "XGBmodel = XGBClassifier(n_estimators=100, early_stopping_rounds=5)\n",
    "XGBmodel.fit(X_train,y_train, eval_set=[(X_test, y_test)],verbose=False)\n",
    "XGBmodel_pred = XGBmodel.predict(X_test)\n",
    "\n",
    "# Accuracy of XGBoost\n",
    "XGBmodel_acc = accuracy_score(y_test,XGBmodel_pred)\n",
    "print(\"Accuracy of XGBoost:\", XGBmodel_acc)\n"
   ]
  },
  {
   "cell_type": "markdown",
   "metadata": {},
   "source": [
    "<a id=\"subsection-five\"></a>\n",
    "### Cross Validation\n",
    "\n",
    "Cross-validation (CV) is a technique used in machine learning to evaluate the performance of a model. In simple modelling, we typically split our dataset into training and testing sets and evaluate the model's performance on the testing set. However, this approach has some limitations, such as a high variance in the evaluation metric, which could lead to overfitting or underfitting of the model. Cross-validation provides a more robust and reliable way to assess model performance by splitting the data into multiple folds and training the model on different subsets of the data. This allows us to obtain a more stable estimate of the model's performance and reduce the risk of overfitting or underfitting. In this way, cross-validation helps us to ensure that our model is generalizable and performs well on new, unseen data.\n"
   ]
  },
  {
   "cell_type": "code",
   "execution_count": 81,
   "metadata": {
    "execution": {
     "iopub.execute_input": "2023-04-04T06:44:00.194553Z",
     "iopub.status.busy": "2023-04-04T06:44:00.194126Z",
     "iopub.status.idle": "2023-04-04T06:47:54.237589Z",
     "shell.execute_reply": "2023-04-04T06:47:54.236368Z",
     "shell.execute_reply.started": "2023-04-04T06:44:00.194516Z"
    }
   },
   "outputs": [
    {
     "name": "stdout",
     "output_type": "stream",
     "text": [
      "Performing grid search for Logistic Regression...\n",
      "Best parameters: {'C': 1.0, 'solver': 'lbfgs'}\n",
      "Training accuracy: 0.796\n",
      "Test accuracy: 0.799\n",
      "Performing grid search for Random Forest...\n",
      "Best parameters: {'max_depth': 5, 'min_samples_split': 10, 'n_estimators': 50}\n",
      "Training accuracy: 0.834\n",
      "Test accuracy: 0.804\n",
      "Performing grid search for XGBoost...\n",
      "Best parameters: {'colsample_bytree': 1.0, 'learning_rate': 0.1, 'max_depth': 5, 'n_estimators': 100, 'subsample': 0.7}\n",
      "Training accuracy: 0.833\n",
      "Test accuracy: 0.821\n",
      "Performing grid search for KNN...\n",
      "Best parameters: {'n_neighbors': 8, 'weights': 'uniform'}\n",
      "Training accuracy: 0.827\n",
      "Test accuracy: 0.804\n",
      "Performing grid search for RBF SVM...\n",
      "Best parameters: {'C': 10.0, 'gamma': 0.1}\n",
      "Training accuracy: 0.833\n",
      "Test accuracy: 0.804\n",
      "Performing grid search for Decision Tree...\n",
      "Best parameters: {'max_depth': 5, 'min_samples_leaf': 1, 'min_samples_split': 10}\n",
      "Training accuracy: 0.824\n",
      "Test accuracy: 0.777\n"
     ]
    }
   ],
   "source": [
    "# Define the models to be tested\n",
    "models = {\n",
    "    \"Logistic Regression\": LogisticRegression(),\n",
    "    \"Random Forest\": RandomForestClassifier(),\n",
    "    \"XGBoost\": XGBClassifier(),\n",
    "    \"KNN\": KNeighborsClassifier(),\n",
    "    \"RBF SVM\": SVC(kernel='rbf'),\n",
    "    \"Decision Tree\": DecisionTreeClassifier()\n",
    "}\n",
    "\n",
    "# Define the hyperparameters to be tested for each model\n",
    "params = {\n",
    "    \"Logistic Regression\": {\n",
    "        \"C\": [0.1, 1.0, 10.0],\n",
    "        \"solver\": [\"lbfgs\", \"liblinear\"]\n",
    "    },\n",
    "    \"Random Forest\": {\n",
    "        \"n_estimators\": [10, 50, 100],\n",
    "        \"max_depth\": [None, 5, 10],\n",
    "        \"min_samples_split\": [2, 5, 10]\n",
    "    },\n",
    "    \"XGBoost\": {\n",
    "        \"learning_rate\": [0.01, 0.1, 0.5],\n",
    "        \"n_estimators\": [50, 100, 200],\n",
    "        \"max_depth\": [3, 5, 7],\n",
    "        \"subsample\": [0.5, 0.7, 1.0],\n",
    "        \"colsample_bytree\": [0.5, 0.7, 1.0]\n",
    "    },\n",
    "    \"KNN\": {\n",
    "        \"n_neighbors\": [2, 4, 6, 8, 10],\n",
    "        \"weights\": [\"uniform\", \"distance\"]\n",
    "    },\n",
    "    \"RBF SVM\": {\n",
    "        \"C\": [0.1, 1.0, 10.0],\n",
    "        \"gamma\": [0.01, 0.1, 1.0]\n",
    "    },\n",
    "    \"Decision Tree\": {\n",
    "        \"max_depth\": [None, 5, 10],\n",
    "        \"min_samples_split\": [2, 5, 10],\n",
    "        \"min_samples_leaf\": [1, 2, 4]\n",
    "    }\n",
    "}\n",
    "\n",
    "# Define the number of folds for cross-validation\n",
    "k = 5\n",
    "cv = KFold(n_splits=k, shuffle=True, random_state=42)\n",
    "\n",
    "# Perform grid search for each model\n",
    "for model_name, model in models.items():\n",
    "    print(f\"Performing grid search for {model_name}...\")\n",
    "    grid_search = GridSearchCV(\n",
    "        model,\n",
    "        params[model_name],\n",
    "        cv=cv,\n",
    "        scoring=\"accuracy\",\n",
    "        n_jobs=-1\n",
    "    )\n",
    "    grid_search.fit(X_train, y_train)\n",
    "    print(f\"Best parameters: {grid_search.best_params_}\")\n",
    "    print(f\"Training accuracy: {grid_search.best_score_:.3f}\")\n",
    "    print(f\"Test accuracy: {grid_search.score(X_test, y_test):.3f}\")\n"
   ]
  },
  {
   "cell_type": "markdown",
   "metadata": {},
   "source": [
    "<a id=\"section-four\"></a>\n",
    "## Submission"
   ]
  },
  {
   "cell_type": "code",
   "execution_count": 82,
   "metadata": {
    "execution": {
     "iopub.execute_input": "2023-04-04T06:48:51.718368Z",
     "iopub.status.busy": "2023-04-04T06:48:51.717887Z",
     "iopub.status.idle": "2023-04-04T06:48:52.203776Z",
     "shell.execute_reply": "2023-04-04T06:48:52.202711Z",
     "shell.execute_reply.started": "2023-04-04T06:48:51.718325Z"
    }
   },
   "outputs": [
    {
     "name": "stdout",
     "output_type": "stream",
     "text": [
      "Your submission was successfully saved!\n"
     ]
    }
   ],
   "source": [
    "# Predictions using XGBoost for test_df and output for submission\n",
    "\n",
    "#Train the XGBoost model with the best parameters\n",
    "model = XGBClassifier(\n",
    "    learning_rate=0.1,\n",
    "    max_depth=5,\n",
    "    n_estimators=100,\n",
    "    subsample=0.7,\n",
    "    colsample_bytree=1.0)\n",
    "\n",
    "model.fit(X_train, y_train)\n",
    "\n",
    "predictions =  model.predict(test_df)\n",
    "test_data = pd.read_csv('test.csv')\n",
    "output = pd.DataFrame({'PassengerId': test_data.PassengerId, 'Survived': predictions})\n",
    "output.to_csv('submission.csv', index=False)\n",
    "print(\"Your submission was successfully saved!\")"
   ]
  },
  {
   "cell_type": "markdown",
   "metadata": {},
   "source": [
    "<a id=\"section-five\"></a>\n",
    "## Conclusion\n",
    "\n",
    "For this Titanic dataset, I started by performing exploratory data analysis using Seaborn to visualize various features and their relationship with the target variable. Through this process, I was able to identify several features that seemed to have a significant impact on survival rate, including sex, class, and age. I also filled in missing values for age and embarked location using appropriate methods.\n",
    "\n",
    "Next, I selected relevant features for the model based on the EDA. For categorical variables, I one-hot encoded nominal variables and left ordinal variables untouched. I then used three classification models - logistic regression, random forest, and XGBoost - as well as KNN, RBF SVM, and decision tree, and performed grid search cross-validation to find the best hyperparameters for each model.\n",
    "\n",
    "From the results, the XGBoost model performed the best with an accuracy of 0.821. Additionally, I was able to obtain a better understanding of the importance of each feature in predicting survival rate, with age, sex, and class being the most important features.\n",
    "\n",
    "Overall, this project provided me with valuable experience in exploring and preparing data, selecting relevant features, and building and optimizing machine learning models."
   ]
  }
 ],
 "metadata": {
  "kernelspec": {
   "display_name": "Python 3 (ipykernel)",
   "language": "python",
   "name": "python3"
  },
  "language_info": {
   "codemirror_mode": {
    "name": "ipython",
    "version": 3
   },
   "file_extension": ".py",
   "mimetype": "text/x-python",
   "name": "python",
   "nbconvert_exporter": "python",
   "pygments_lexer": "ipython3",
   "version": "3.9.12"
  }
 },
 "nbformat": 4,
 "nbformat_minor": 4
}
